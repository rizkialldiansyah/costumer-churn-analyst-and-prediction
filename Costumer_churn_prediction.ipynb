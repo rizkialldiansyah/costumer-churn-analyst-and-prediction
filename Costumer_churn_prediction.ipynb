{
 "cells": [
  {
   "cell_type": "markdown",
   "id": "db159490",
   "metadata": {},
   "source": [
    "# Pendahuluan\n",
    "## Deskripsi Singkat Proyek\n",
    "Proyek ini bertujuan untuk menganalisis tingkat perpindahan pelanggan (customer churn) dalam suatu perusahaan atau layanan. Dengan menggunakan dataset yang mencakup berbagai atribut pelanggan, proyek ini akan fokus pada pemahaman perilaku churn, identifikasi faktor-faktor yang mempengaruhi churn, dan membangun model prediksi untuk mengantisipasi potensi churn di masa depan. Analisis ini diharapkan akan membantu perusahaan dalam mengoptimalkan strategi retensi pelanggan dan meningkatkan kualitas layanan untuk meminimalkan tingkat churn.\n",
    "## Business Questions\n",
    "- Berapa tingkat churn pelanggan saat ini?\n",
    "- Faktor apa yang paling berpengaruh dalam keputusan pelanggan untuk berpindah (churn)?\n",
    "- Bagaimana hubungan antara atribut pelanggan dengan tingkat churn?\n",
    "- Apakah terdapat perbedaan tingkat churn antara pelanggan dengan tipe langganan (Subscription Type) berbeda?\n",
    "- Apakah ada pola perilaku tertentu yang dapat kita gunakan sebagai indikator awal potensi churn?\n",
    "- Bisakah kita mengidentifikasi pelanggan yang berpotensi churn sebelum mereka benar-benar berpindah dari layanan perusahaan?\n",
    "\n",
    "## Dataset\n",
    "* CustomerID: ID unik untuk setiap pelanggan dalam dataset.\n",
    "* Age: Usia pelanggan dalam tahun.\n",
    "* Gender: Jenis kelamin pelanggan (misalnya: \"Male\" atau \"Female\").\n",
    "* Tenure: Lamanya pelanggan telah berlangganan dalam bulan.\n",
    "* Usage Frequency: Frekuensi penggunaan layanan oleh pelanggan dalam periode waktu tertentu.\n",
    "* Support Calls: Jumlah panggilan dukungan yang dilakukan oleh pelanggan.\n",
    "* Payment Delay: Keterlambatan pembayaran pelanggan terhadap tagihan.\n",
    "* Subscription Type: Jenis langganan pelanggan (misalnya: \"Monthly\" atau \"Yearly\").\n",
    "* Contract Length: Durasi kontrak langganan pelanggan dalam bulan.\n",
    "* Total Spend: Total pengeluaran pelanggan selama periode tertentu.\n",
    "* Last Interaction: Waktu interaksi terakhir antara pelanggan dengan perusahaan.\n",
    "* Churn: Label yang menunjukkan apakah pelanggan berpindah (\"Yes\") atau tidak (\"No\")."
   ]
  },
  {
   "cell_type": "markdown",
   "id": "57220194",
   "metadata": {},
   "source": [
    "# Data Preparation & EDA"
   ]
  },
  {
   "cell_type": "code",
   "execution_count": 1,
   "id": "fe6d2f69",
   "metadata": {},
   "outputs": [],
   "source": [
    "import pandas as pd\n",
    "import numpy as np\n",
    "import matplotlib.pyplot as plt\n",
    "import seaborn as sns"
   ]
  },
  {
   "cell_type": "code",
   "execution_count": 2,
   "id": "a018b46e",
   "metadata": {},
   "outputs": [
    {
     "data": {
      "text/html": [
       "<div>\n",
       "<style scoped>\n",
       "    .dataframe tbody tr th:only-of-type {\n",
       "        vertical-align: middle;\n",
       "    }\n",
       "\n",
       "    .dataframe tbody tr th {\n",
       "        vertical-align: top;\n",
       "    }\n",
       "\n",
       "    .dataframe thead th {\n",
       "        text-align: right;\n",
       "    }\n",
       "</style>\n",
       "<table border=\"1\" class=\"dataframe\">\n",
       "  <thead>\n",
       "    <tr style=\"text-align: right;\">\n",
       "      <th></th>\n",
       "      <th>CustomerID</th>\n",
       "      <th>Age</th>\n",
       "      <th>Gender</th>\n",
       "      <th>Tenure</th>\n",
       "      <th>Usage Frequency</th>\n",
       "      <th>Support Calls</th>\n",
       "      <th>Payment Delay</th>\n",
       "      <th>Subscription Type</th>\n",
       "      <th>Contract Length</th>\n",
       "      <th>Total Spend</th>\n",
       "      <th>Last Interaction</th>\n",
       "      <th>Churn</th>\n",
       "    </tr>\n",
       "  </thead>\n",
       "  <tbody>\n",
       "    <tr>\n",
       "      <th>0</th>\n",
       "      <td>2.0</td>\n",
       "      <td>30.0</td>\n",
       "      <td>Female</td>\n",
       "      <td>39.0</td>\n",
       "      <td>14.0</td>\n",
       "      <td>5.0</td>\n",
       "      <td>18.0</td>\n",
       "      <td>Standard</td>\n",
       "      <td>Annual</td>\n",
       "      <td>932.0</td>\n",
       "      <td>17.0</td>\n",
       "      <td>1.0</td>\n",
       "    </tr>\n",
       "    <tr>\n",
       "      <th>1</th>\n",
       "      <td>3.0</td>\n",
       "      <td>65.0</td>\n",
       "      <td>Female</td>\n",
       "      <td>49.0</td>\n",
       "      <td>1.0</td>\n",
       "      <td>10.0</td>\n",
       "      <td>8.0</td>\n",
       "      <td>Basic</td>\n",
       "      <td>Monthly</td>\n",
       "      <td>557.0</td>\n",
       "      <td>6.0</td>\n",
       "      <td>1.0</td>\n",
       "    </tr>\n",
       "    <tr>\n",
       "      <th>2</th>\n",
       "      <td>4.0</td>\n",
       "      <td>55.0</td>\n",
       "      <td>Female</td>\n",
       "      <td>14.0</td>\n",
       "      <td>4.0</td>\n",
       "      <td>6.0</td>\n",
       "      <td>18.0</td>\n",
       "      <td>Basic</td>\n",
       "      <td>Quarterly</td>\n",
       "      <td>185.0</td>\n",
       "      <td>3.0</td>\n",
       "      <td>1.0</td>\n",
       "    </tr>\n",
       "    <tr>\n",
       "      <th>3</th>\n",
       "      <td>5.0</td>\n",
       "      <td>58.0</td>\n",
       "      <td>Male</td>\n",
       "      <td>38.0</td>\n",
       "      <td>21.0</td>\n",
       "      <td>7.0</td>\n",
       "      <td>7.0</td>\n",
       "      <td>Standard</td>\n",
       "      <td>Monthly</td>\n",
       "      <td>396.0</td>\n",
       "      <td>29.0</td>\n",
       "      <td>1.0</td>\n",
       "    </tr>\n",
       "    <tr>\n",
       "      <th>4</th>\n",
       "      <td>6.0</td>\n",
       "      <td>23.0</td>\n",
       "      <td>Male</td>\n",
       "      <td>32.0</td>\n",
       "      <td>20.0</td>\n",
       "      <td>5.0</td>\n",
       "      <td>8.0</td>\n",
       "      <td>Basic</td>\n",
       "      <td>Monthly</td>\n",
       "      <td>617.0</td>\n",
       "      <td>20.0</td>\n",
       "      <td>1.0</td>\n",
       "    </tr>\n",
       "  </tbody>\n",
       "</table>\n",
       "</div>"
      ],
      "text/plain": [
       "   CustomerID   Age  Gender  Tenure  Usage Frequency  Support Calls  \\\n",
       "0         2.0  30.0  Female    39.0             14.0            5.0   \n",
       "1         3.0  65.0  Female    49.0              1.0           10.0   \n",
       "2         4.0  55.0  Female    14.0              4.0            6.0   \n",
       "3         5.0  58.0    Male    38.0             21.0            7.0   \n",
       "4         6.0  23.0    Male    32.0             20.0            5.0   \n",
       "\n",
       "   Payment Delay Subscription Type Contract Length  Total Spend  \\\n",
       "0           18.0          Standard          Annual        932.0   \n",
       "1            8.0             Basic         Monthly        557.0   \n",
       "2           18.0             Basic       Quarterly        185.0   \n",
       "3            7.0          Standard         Monthly        396.0   \n",
       "4            8.0             Basic         Monthly        617.0   \n",
       "\n",
       "   Last Interaction  Churn  \n",
       "0              17.0    1.0  \n",
       "1               6.0    1.0  \n",
       "2               3.0    1.0  \n",
       "3              29.0    1.0  \n",
       "4              20.0    1.0  "
      ]
     },
     "execution_count": 2,
     "metadata": {},
     "output_type": "execute_result"
    }
   ],
   "source": [
    "costumer_churn_train = pd.read_csv('./data_input/customer_churn_dataset-training-master.csv')\n",
    "costumer_churn_test = pd.read_csv('./data_input/customer_churn_dataset-testing-master.csv')\n",
    "\n",
    "costumer_churn = pd.concat([costumer_churn_train, costumer_churn_test], ignore_index=True)\n",
    "costumer_churn.head()"
   ]
  },
  {
   "cell_type": "markdown",
   "id": "0c9561c9",
   "metadata": {},
   "source": [
    "## Check Structure Data"
   ]
  },
  {
   "cell_type": "code",
   "execution_count": 3,
   "id": "751ab2f2",
   "metadata": {},
   "outputs": [
    {
     "name": "stdout",
     "output_type": "stream",
     "text": [
      "<class 'pandas.core.frame.DataFrame'>\n",
      "RangeIndex: 505207 entries, 0 to 505206\n",
      "Data columns (total 12 columns):\n",
      " #   Column             Non-Null Count   Dtype  \n",
      "---  ------             --------------   -----  \n",
      " 0   CustomerID         505206 non-null  float64\n",
      " 1   Age                505206 non-null  float64\n",
      " 2   Gender             505206 non-null  object \n",
      " 3   Tenure             505206 non-null  float64\n",
      " 4   Usage Frequency    505206 non-null  float64\n",
      " 5   Support Calls      505206 non-null  float64\n",
      " 6   Payment Delay      505206 non-null  float64\n",
      " 7   Subscription Type  505206 non-null  object \n",
      " 8   Contract Length    505206 non-null  object \n",
      " 9   Total Spend        505206 non-null  float64\n",
      " 10  Last Interaction   505206 non-null  float64\n",
      " 11  Churn              505206 non-null  float64\n",
      "dtypes: float64(9), object(3)\n",
      "memory usage: 46.3+ MB\n"
     ]
    }
   ],
   "source": [
    "costumer_churn.info()"
   ]
  },
  {
   "cell_type": "code",
   "execution_count": 4,
   "id": "8e0d773f",
   "metadata": {},
   "outputs": [],
   "source": [
    "costumer_churn = costumer_churn.drop('CustomerID', axis=1)\n",
    "costumer_churn = costumer_churn.dropna()"
   ]
  },
  {
   "cell_type": "markdown",
   "id": "aa540972",
   "metadata": {},
   "source": [
    "## Summary Stats"
   ]
  },
  {
   "cell_type": "code",
   "execution_count": 5,
   "id": "ea5042ce",
   "metadata": {},
   "outputs": [
    {
     "data": {
      "text/html": [
       "<div>\n",
       "<style scoped>\n",
       "    .dataframe tbody tr th:only-of-type {\n",
       "        vertical-align: middle;\n",
       "    }\n",
       "\n",
       "    .dataframe tbody tr th {\n",
       "        vertical-align: top;\n",
       "    }\n",
       "\n",
       "    .dataframe thead th {\n",
       "        text-align: right;\n",
       "    }\n",
       "</style>\n",
       "<table border=\"1\" class=\"dataframe\">\n",
       "  <thead>\n",
       "    <tr style=\"text-align: right;\">\n",
       "      <th></th>\n",
       "      <th>Age</th>\n",
       "      <th>Tenure</th>\n",
       "      <th>Usage Frequency</th>\n",
       "      <th>Support Calls</th>\n",
       "      <th>Payment Delay</th>\n",
       "      <th>Total Spend</th>\n",
       "      <th>Last Interaction</th>\n",
       "      <th>Churn</th>\n",
       "    </tr>\n",
       "  </thead>\n",
       "  <tbody>\n",
       "    <tr>\n",
       "      <th>count</th>\n",
       "      <td>505206.000000</td>\n",
       "      <td>505206.000000</td>\n",
       "      <td>505206.000000</td>\n",
       "      <td>505206.000000</td>\n",
       "      <td>505206.000000</td>\n",
       "      <td>505206.000000</td>\n",
       "      <td>505206.000000</td>\n",
       "      <td>505206.000000</td>\n",
       "    </tr>\n",
       "    <tr>\n",
       "      <th>mean</th>\n",
       "      <td>39.704172</td>\n",
       "      <td>31.350435</td>\n",
       "      <td>15.714825</td>\n",
       "      <td>3.833317</td>\n",
       "      <td>13.496843</td>\n",
       "      <td>620.072766</td>\n",
       "      <td>14.610581</td>\n",
       "      <td>0.555203</td>\n",
       "    </tr>\n",
       "    <tr>\n",
       "      <th>std</th>\n",
       "      <td>12.670577</td>\n",
       "      <td>17.237482</td>\n",
       "      <td>8.619323</td>\n",
       "      <td>3.133603</td>\n",
       "      <td>8.451187</td>\n",
       "      <td>245.319256</td>\n",
       "      <td>8.608286</td>\n",
       "      <td>0.496944</td>\n",
       "    </tr>\n",
       "    <tr>\n",
       "      <th>min</th>\n",
       "      <td>18.000000</td>\n",
       "      <td>1.000000</td>\n",
       "      <td>1.000000</td>\n",
       "      <td>0.000000</td>\n",
       "      <td>0.000000</td>\n",
       "      <td>100.000000</td>\n",
       "      <td>1.000000</td>\n",
       "      <td>0.000000</td>\n",
       "    </tr>\n",
       "    <tr>\n",
       "      <th>25%</th>\n",
       "      <td>29.000000</td>\n",
       "      <td>16.000000</td>\n",
       "      <td>8.000000</td>\n",
       "      <td>1.000000</td>\n",
       "      <td>6.000000</td>\n",
       "      <td>446.000000</td>\n",
       "      <td>7.000000</td>\n",
       "      <td>0.000000</td>\n",
       "    </tr>\n",
       "    <tr>\n",
       "      <th>50%</th>\n",
       "      <td>40.000000</td>\n",
       "      <td>32.000000</td>\n",
       "      <td>16.000000</td>\n",
       "      <td>3.000000</td>\n",
       "      <td>13.000000</td>\n",
       "      <td>648.900000</td>\n",
       "      <td>14.000000</td>\n",
       "      <td>1.000000</td>\n",
       "    </tr>\n",
       "    <tr>\n",
       "      <th>75%</th>\n",
       "      <td>49.000000</td>\n",
       "      <td>46.000000</td>\n",
       "      <td>23.000000</td>\n",
       "      <td>6.000000</td>\n",
       "      <td>20.000000</td>\n",
       "      <td>824.000000</td>\n",
       "      <td>22.000000</td>\n",
       "      <td>1.000000</td>\n",
       "    </tr>\n",
       "    <tr>\n",
       "      <th>max</th>\n",
       "      <td>65.000000</td>\n",
       "      <td>60.000000</td>\n",
       "      <td>30.000000</td>\n",
       "      <td>10.000000</td>\n",
       "      <td>30.000000</td>\n",
       "      <td>1000.000000</td>\n",
       "      <td>30.000000</td>\n",
       "      <td>1.000000</td>\n",
       "    </tr>\n",
       "  </tbody>\n",
       "</table>\n",
       "</div>"
      ],
      "text/plain": [
       "                 Age         Tenure  Usage Frequency  Support Calls  \\\n",
       "count  505206.000000  505206.000000    505206.000000  505206.000000   \n",
       "mean       39.704172      31.350435        15.714825       3.833317   \n",
       "std        12.670577      17.237482         8.619323       3.133603   \n",
       "min        18.000000       1.000000         1.000000       0.000000   \n",
       "25%        29.000000      16.000000         8.000000       1.000000   \n",
       "50%        40.000000      32.000000        16.000000       3.000000   \n",
       "75%        49.000000      46.000000        23.000000       6.000000   \n",
       "max        65.000000      60.000000        30.000000      10.000000   \n",
       "\n",
       "       Payment Delay    Total Spend  Last Interaction          Churn  \n",
       "count  505206.000000  505206.000000     505206.000000  505206.000000  \n",
       "mean       13.496843     620.072766         14.610581       0.555203  \n",
       "std         8.451187     245.319256          8.608286       0.496944  \n",
       "min         0.000000     100.000000          1.000000       0.000000  \n",
       "25%         6.000000     446.000000          7.000000       0.000000  \n",
       "50%        13.000000     648.900000         14.000000       1.000000  \n",
       "75%        20.000000     824.000000         22.000000       1.000000  \n",
       "max        30.000000    1000.000000         30.000000       1.000000  "
      ]
     },
     "execution_count": 5,
     "metadata": {},
     "output_type": "execute_result"
    }
   ],
   "source": [
    "costumer_churn.describe()"
   ]
  },
  {
   "cell_type": "markdown",
   "id": "50235788",
   "metadata": {},
   "source": [
    "### Insigth"
   ]
  },
  {
   "cell_type": "markdown",
   "id": "afc32deb",
   "metadata": {},
   "source": [
    "* Rata-rata umur pada dataset ini kisaran umur costumer pada dataset ini yaitu 39thn, dimana umur costumer paling muda yaitu 18thn dan paling tua 65thn\n",
    "* Lama berlangganan para costumer yang ada didata ini paling sebentar adalah 1 bulan dan paling lama 60 bulan\n",
    "* Payment delay yang terjadi paling lama adalah 30 hari\n",
    "* Total pengeluaran yang dilakukan costumer rata-rata 631.62"
   ]
  },
  {
   "cell_type": "markdown",
   "id": "ab59915d",
   "metadata": {},
   "source": [
    "## Data Visualization"
   ]
  },
  {
   "cell_type": "code",
   "execution_count": 6,
   "id": "a50f6545",
   "metadata": {},
   "outputs": [
    {
     "data": {
      "image/png": "[encoded data removed]",
      "text/plain": [
       "<Figure size 800x600 with 1 Axes>"
      ]
     },
     "metadata": {},
     "output_type": "display_data"
    }
   ],
   "source": [
    "# Plot bar plot untuk distribusi churn dan tidak churn\n",
    "plt.figure(figsize=(8, 6))\n",
    "sns.countplot(data=costumer_churn, x='Churn', palette='deep')\n",
    "plt.xlabel('Churn')\n",
    "plt.ylabel('Count')\n",
    "plt.title('Distribution of Churn')\n",
    "plt.xticks(ticks=[0, 1], labels=['Not Churn', 'Churn'])\n",
    "plt.show()"
   ]
  },
  {
   "cell_type": "code",
   "execution_count": 7,
   "id": "192b6c55",
   "metadata": {},
   "outputs": [
    {
     "data": {
      "text/plain": [
       "<Figure size 1000x600 with 0 Axes>"
      ]
     },
     "metadata": {},
     "output_type": "display_data"
    },
    {
     "data": {
      "image/png": "[encoded data removed]",
      "text/plain": [
       "<Figure size 640x480 with 1 Axes>"
      ]
     },
     "metadata": {},
     "output_type": "display_data"
    }
   ],
   "source": [
    "# Hitung jumlah churn dan tidak churn untuk setiap subscription type\n",
    "subscription_churn_counts = costumer_churn.groupby(['Subscription Type', 'Churn']).size().unstack(fill_value=0)\n",
    "\n",
    "# Visualisasi perbandingan churn dan tidak churn dalam satu bar plot\n",
    "plt.figure(figsize=(10, 6))\n",
    "subscription_churn_counts.plot(kind='barh', stacked=True, color=['skyblue', 'orange'])\n",
    "plt.xlabel('Count')\n",
    "plt.ylabel('Subscription Type')\n",
    "plt.title('Comparison of Churn and Not Churn by Subscription Type')\n",
    "plt.legend(title='Churn', loc='center right', labels=['Not Churn', 'Churn'])\n",
    "plt.show()"
   ]
  },
  {
   "cell_type": "markdown",
   "id": "00b176f8",
   "metadata": {},
   "source": [
    "### Insigth Comparison of Churn and Not Churn by Subscription Type\n",
    "Dari hasil visualisasinya antara churn dan tidak churn tiap subscription type ini memiliki kesamaan. dimana kegiata tipe member ini lebih condong terhadap data yang churn daripada tidak."
   ]
  },
  {
   "cell_type": "code",
   "execution_count": 8,
   "id": "6453e72c",
   "metadata": {},
   "outputs": [
    {
     "data": {
      "image/png": "[encoded data removed]",
      "text/plain": [
       "<Figure size 1000x600 with 1 Axes>"
      ]
     },
     "metadata": {},
     "output_type": "display_data"
    }
   ],
   "source": [
    "# Plot bar plot untuk membandingkan banyaknya churn dan tidak churn antara lelaki dan perempuan\n",
    "plt.figure(figsize=(10, 6))\n",
    "sns.countplot(data=costumer_churn, x='Gender', hue='Churn', palette='deep')\n",
    "plt.xlabel('Gender')\n",
    "plt.ylabel('Count')\n",
    "plt.title('Comparison of Churn vs. Gender')\n",
    "plt.legend(title='Churn', loc='upper right', labels=['Not Churn', 'Churn'])\n",
    "plt.show()"
   ]
  },
  {
   "cell_type": "markdown",
   "id": "75f033af",
   "metadata": {},
   "source": [
    "### Insigth (Comparasion of Churn vs Gender)\n",
    "dari visualisasi diatas dapat disimpulkan bahwa perempuan lebih banyak yang churn daripada lelaki, hal tersebut dapat dilihat dari perbandingan laki-laki dan perempuan yang memiliki distribusi yang sama antara churn pada perempuan dan tidak churn pada lelaki"
   ]
  },
  {
   "cell_type": "code",
   "execution_count": 9,
   "id": "8ac62692",
   "metadata": {},
   "outputs": [
    {
     "name": "stderr",
     "output_type": "stream",
     "text": [
      "C:\\Users\\ASUS\\AppData\\Local\\Temp\\ipykernel_14672\\413517415.py:2: FutureWarning: \n",
      "\n",
      "The `ci` parameter is deprecated. Use `errorbar=None` for the same effect.\n",
      "\n",
      "  sns.barplot(data=costumer_churn, x='Churn', y='Total Spend', estimator=sum, ci=None, palette='deep')\n"
     ]
    },
    {
     "data": {
      "image/png": "[encoded data removed]",
      "text/plain": [
       "<Figure size 1000x600 with 1 Axes>"
      ]
     },
     "metadata": {},
     "output_type": "display_data"
    }
   ],
   "source": [
    "plt.figure(figsize=(10, 6))\n",
    "sns.barplot(data=costumer_churn, x='Churn', y='Total Spend', estimator=sum, ci=None, palette='deep')\n",
    "plt.xlabel('Churn')\n",
    "plt.ylabel('Total Spend')\n",
    "plt.title('Total Spend for Churn vs. Not Churn')\n",
    "plt.xticks(ticks=[0, 1], labels=['Not Churn', 'Churn'])\n",
    "plt.show()"
   ]
  },
  {
   "cell_type": "markdown",
   "id": "ca55836c",
   "metadata": {},
   "source": [
    "### Insigth (Total Spend for Churn vs. Not Churn)\n",
    "Dari hasil visualisasi diatas, dapat disimpulkan bahwa costumer yang tidak churn lebih banyak mengeluarkan uangnya daripada yang churn"
   ]
  },
  {
   "cell_type": "code",
   "execution_count": 10,
   "id": "79bf83b2",
   "metadata": {},
   "outputs": [
    {
     "name": "stderr",
     "output_type": "stream",
     "text": [
      "C:\\Users\\ASUS\\AppData\\Local\\Temp\\ipykernel_14672\\378127973.py:2: FutureWarning: \n",
      "\n",
      "The `ci` parameter is deprecated. Use `errorbar=None` for the same effect.\n",
      "\n",
      "  sns.barplot(data=costumer_churn, x='Churn', y='Usage Frequency', estimator=np.mean, ci=None, palette='deep')\n"
     ]
    },
    {
     "data": {
      "image/png": "[encoded data removed]",
      "text/plain": [
       "<Figure size 1000x600 with 1 Axes>"
      ]
     },
     "metadata": {},
     "output_type": "display_data"
    }
   ],
   "source": [
    "plt.figure(figsize=(10, 6))\n",
    "sns.barplot(data=costumer_churn, x='Churn', y='Usage Frequency', estimator=np.mean, ci=None, palette='deep')\n",
    "plt.xlabel('Churn')\n",
    "plt.ylabel('Usage Frequency')\n",
    "plt.title('Mean Usage Frequency for Churn vs. Not Churn')\n",
    "plt.xticks(ticks=[0, 1], labels=['Not Churn', 'Churn'])\n",
    "plt.show()"
   ]
  },
  {
   "cell_type": "markdown",
   "id": "628fe9de",
   "metadata": {},
   "source": [
    "### Insigth (Mean Usage Frequency for Churn vs. Not Churn)\n",
    "Dari hasil visualisasi diatas dapat diambil kesimpulan bahwa rata-rata costumer churn lebih sering menggunakan daripada churn. mauapun rata-ratanya ini tidak terlalu berbeda jauh\n",
    "\n"
   ]
  },
  {
   "cell_type": "code",
   "execution_count": 11,
   "id": "09a79d9d",
   "metadata": {},
   "outputs": [
    {
     "data": {
      "image/png": "[encoded data removed]",
      "text/plain": [
       "<Figure size 800x600 with 1 Axes>"
      ]
     },
     "metadata": {},
     "output_type": "display_data"
    }
   ],
   "source": [
    "# Plot boxplot untuk kolom 'Total Spend'\n",
    "plt.figure(figsize=(8, 6))\n",
    "sns.boxplot(data=costumer_churn, y='Total Spend')\n",
    "plt.ylabel('Total Spend')\n",
    "plt.title('Boxplot of Total Spend')\n",
    "plt.show()"
   ]
  },
  {
   "cell_type": "markdown",
   "id": "6166e14d",
   "metadata": {},
   "source": [
    "### Insigth (Boxplot of Total Spend)\n",
    "Pada Visualisasi boxplot didapatkan bahwa total spend dari costumer lebih condong memiliki negatively skewed yang artinya total yang dikeluarkan oleh costumer memiliki distribusi yang condong tinggi, yaitu kisaran 480an hingga 820an."
   ]
  },
  {
   "cell_type": "code",
   "execution_count": 12,
   "id": "e20f999a",
   "metadata": {},
   "outputs": [
    {
     "data": {
      "image/png": "[encoded data removed]",
      "text/plain": [
       "<Figure size 800x600 with 1 Axes>"
      ]
     },
     "metadata": {},
     "output_type": "display_data"
    }
   ],
   "source": [
    "# Plot boxplot untuk kolom 'Total Spend'\n",
    "plt.figure(figsize=(8, 6))\n",
    "sns.boxplot(data=costumer_churn, y='Age')\n",
    "plt.ylabel('Total Spend')\n",
    "plt.title('Boxplot of Total Spend')\n",
    "plt.show()"
   ]
  },
  {
   "cell_type": "markdown",
   "id": "ef096377",
   "metadata": {},
   "source": [
    "### Insigth (Boxplot of Age)\n",
    "Pada Visualisasi boxplot didapatkan bahwa umur dari costumer hampir setara akan tetapi memang sedikit condong kebawah memiliki positively skewed yang artinya umur dari costumer terdistribusi diantara 29an hingga 48an"
   ]
  },
  {
   "cell_type": "markdown",
   "id": "6205d2fe",
   "metadata": {},
   "source": [
    "# Data Preprocessing"
   ]
  },
  {
   "cell_type": "code",
   "execution_count": 13,
   "id": "3dc049bc",
   "metadata": {},
   "outputs": [],
   "source": [
    "from sklearn.preprocessing import LabelEncoder\n",
    "from sklearn.model_selection import train_test_split"
   ]
  },
  {
   "cell_type": "code",
   "execution_count": 14,
   "id": "654c0d1a",
   "metadata": {},
   "outputs": [],
   "source": [
    "encoder = LabelEncoder()\n",
    "\n",
    "# List kolom yang ingin diencode\n",
    "columns_to_encode = ['Gender', 'Subscription Type', 'Contract Length', 'Churn']\n",
    "\n",
    "# Melakukan encoding pada train_data\n",
    "for column in columns_to_encode:\n",
    "    costumer_churn[column] = encoder.fit_transform(costumer_churn[column])"
   ]
  },
  {
   "cell_type": "code",
   "execution_count": 15,
   "id": "7e332603",
   "metadata": {},
   "outputs": [],
   "source": [
    "# Drop the \"Churn\" column from the train dataset and assign it to X_train\n",
    "X = costumer_churn.drop(\"Churn\", axis=1)\n",
    "\n",
    "# Extract the \"Churn\" column and assign it to y_train\n",
    "y = costumer_churn[\"Churn\"]"
   ]
  },
  {
   "cell_type": "code",
   "execution_count": 16,
   "id": "a11918a8",
   "metadata": {},
   "outputs": [],
   "source": [
    "X_train, X_test, y_train, y_test = train_test_split(X, y, test_size=0.2, random_state=42)"
   ]
  },
  {
   "cell_type": "code",
   "execution_count": 17,
   "id": "e40736f5",
   "metadata": {},
   "outputs": [],
   "source": [
    "from sklearn.impute import SimpleImputer\n",
    "from sklearn.preprocessing import StandardScaler\n",
    "from sklearn.pipeline import Pipeline"
   ]
  },
  {
   "cell_type": "code",
   "execution_count": 18,
   "id": "91547403",
   "metadata": {},
   "outputs": [],
   "source": [
    "# Inisialisasi SimpleImputer dan StandardScaler\n",
    "imputer = SimpleImputer(strategy='mean')\n",
    "scaler = StandardScaler()\n",
    "\n",
    "# Buat pipeline untuk menggabungkan SimpleImputer dan StandardScaler\n",
    "pipeline = Pipeline([\n",
    "    ('imputer', imputer),\n",
    "    ('scaler', scaler),\n",
    "])\n",
    "\n",
    "# Proses imputasi dan scaling pada training set\n",
    "X_train_scaled = pipeline.fit_transform(X_train)\n",
    "# Proses imputasi dan scaling pada testing set\n",
    "X_test_scaled = pipeline.transform(X_test)"
   ]
  },
  {
   "cell_type": "markdown",
   "id": "cbe64c42",
   "metadata": {},
   "source": [
    "# Model"
   ]
  },
  {
   "cell_type": "code",
   "execution_count": 19,
   "id": "9ecaf0af",
   "metadata": {},
   "outputs": [],
   "source": [
    "from sklearn.linear_model import LogisticRegression\n",
    "from sklearn.ensemble import RandomForestClassifier\n",
    "from sklearn.metrics import accuracy_score, confusion_matrix, classification_report"
   ]
  },
  {
   "cell_type": "code",
   "execution_count": 20,
   "id": "6b80fce3",
   "metadata": {},
   "outputs": [
    {
     "name": "stdout",
     "output_type": "stream",
     "text": [
      "Accuracy: 0.82\n",
      "Confusion Matrix:\n",
      "[[36518  8463]\n",
      " [ 9856 46205]]\n",
      "Classification Report:\n",
      "              precision    recall  f1-score   support\n",
      "\n",
      "           0       0.79      0.81      0.80     44981\n",
      "           1       0.85      0.82      0.83     56061\n",
      "\n",
      "    accuracy                           0.82    101042\n",
      "   macro avg       0.82      0.82      0.82    101042\n",
      "weighted avg       0.82      0.82      0.82    101042\n",
      "\n"
     ]
    }
   ],
   "source": [
    "# Inisialisasi model Logistic Regression\n",
    "model_lr = LogisticRegression(max_iter=1000)\n",
    "\n",
    "# Latih model pada training set\n",
    "model_lr.fit(X_train_scaled, y_train)\n",
    "\n",
    "# Lakukan prediksi pada testing set\n",
    "y_pred = model_lr.predict(X_test_scaled)\n",
    "\n",
    "# Evaluasi model\n",
    "accuracy = accuracy_score(y_test, y_pred)\n",
    "conf_matrix = confusion_matrix(y_test, y_pred)\n",
    "class_report = classification_report(y_test, y_pred)\n",
    "\n",
    "print(f'Accuracy: {accuracy:.2f}')\n",
    "print(f'Confusion Matrix:\\n{conf_matrix}')\n",
    "print(f'Classification Report:\\n{class_report}')"
   ]
  },
  {
   "cell_type": "markdown",
   "id": "53037463",
   "metadata": {},
   "source": [
    "### Insigth\n",
    "Berdasarkan hasil evaluasi model prediksi churn pada dataset gabungan, diperoleh akurasi sebesar 82%. Pada confusion matrix, terdapat 36,518 prediksi costumer yang tidak churn yang benar dan 9,856 prediksi costumer yang tidak churn namun sebenarnya churn. Sebaliknya, terdapat 8,463 prediksi costumer yang churn yang benar dan 46,205 prediksi costumer yang churn namun sebenarnya tidak churn.\n",
    "\n",
    "Dari hasil classification report, precision untuk kelas tidak churn adalah sebesar 79%, yang menunjukkan bahwa dari semua costumer yang diprediksi tidak churn, 79% di antaranya memang benar-benar tidak churn. Sedangkan, precision untuk kelas churn adalah 85%, yang menunjukkan bahwa dari semua costumer yang diprediksi churn, 85% di antaranya benar-benar churn.\n",
    "\n",
    "Dalam konteks prediksi churn, penting untuk meminimalkan jumlah costumer yang sebenarnya churn namun diprediksi tidak akan churn (False negative). Oleh karena itu, precision menjadi metrik evaluasi yang lebih penting bagi proyek ini. Dengan precision sebesar 85%, model telah berhasil meminimalkan jumlah costumer yang diprediksi salah sebagai tidak churn.\n",
    "\n",
    "Namun, selain precision, juga perlu memperhatikan recall yang mengukur kemampuan model dalam menemukan costumer yang sebenarnya churn. Dengan recall sebesar 82%, model mampu mengidentifikasi 82% dari costumer yang sebenarnya churn.\n",
    "\n",
    "Secara keseluruhan, model ini memberikan kinerja yang baik dengan akurasi 82%, precision dan recall yang seimbang, serta f1-score yang cukup tinggi. Namun, tetap penting untuk mengevaluasi berbagai aspek dan mempertimbangkan tujuan bisnis serta konteks spesifik dalam menentukan metrik evaluasi yang paling relevan untuk digunakan."
   ]
  },
  {
   "cell_type": "code",
   "execution_count": 21,
   "id": "45fbc53e",
   "metadata": {},
   "outputs": [
    {
     "name": "stdout",
     "output_type": "stream",
     "text": [
      "Accuracy: 0.93\n",
      "Confusion Matrix:\n",
      "[[38454  6527]\n",
      " [   89 55972]]\n",
      "Classification Report:\n",
      "              precision    recall  f1-score   support\n",
      "\n",
      "           0       1.00      0.85      0.92     44981\n",
      "           1       0.90      1.00      0.94     56061\n",
      "\n",
      "    accuracy                           0.93    101042\n",
      "   macro avg       0.95      0.93      0.93    101042\n",
      "weighted avg       0.94      0.93      0.93    101042\n",
      "\n"
     ]
    }
   ],
   "source": [
    "# Inisialisasi model Random Forest\n",
    "model_rf = RandomForestClassifier(n_estimators=100, random_state=42)\n",
    "\n",
    "# Latih model pada data training\n",
    "model_rf.fit(X_train_scaled, y_train)\n",
    "\n",
    "# Lakukan prediksi pada data testing\n",
    "y_pred = model_rf.predict(X_test_scaled)\n",
    "\n",
    "# Evaluasi model\n",
    "accuracy = accuracy_score(y_test, y_pred)\n",
    "conf_matrix = confusion_matrix(y_test, y_pred)\n",
    "class_report = classification_report(y_test, y_pred)\n",
    "\n",
    "print(f'Accuracy: {accuracy:.2f}')\n",
    "print(f'Confusion Matrix:\\n{conf_matrix}')\n",
    "print(f'Classification Report:\\n{class_report}')"
   ]
  },
  {
   "cell_type": "markdown",
   "id": "6df34145",
   "metadata": {},
   "source": [
    "## Insigth\n",
    "Berdasarkan hasil evaluasi model prediksi churn costumer dengan dataset gabungan, diperoleh akurasi sebesar 93%. Pada confusion matrix, terdapat 38,454 prediksi costumer yang tidak churn yang benar dan 89 prediksi costumer yang tidak churn namun sebenarnya churn. Sebaliknya, terdapat 55,972 prediksi costumer yang churn yang benar dan 6,527 prediksi costumer yang churn namun sebenarnya tidak churn.\n",
    "\n",
    "Dari hasil classification report, precision untuk kelas tidak churn adalah sebesar 100%, yang menunjukkan bahwa dari semua costumer yang diprediksi tidak churn, 100% di antaranya memang benar-benar tidak churn. Namun, recall untuk kelas tidak churn adalah 85%, yang menunjukkan bahwa dari semua costumer yang sebenarnya tidak churn, model berhasil memprediksi 85% dari mereka dengan benar.\n",
    "\n",
    "Karena fokus kita adalah untuk meminimalkan jumlah costumer yang sebenarnya churn namun diprediksi tidak akan churn, maka recall menjadi metrik evaluasi yang lebih penting bagi proyek ini. Dengan recall sebesar 90%, model telah berhasil memprediksi hampir semua costumer yang sebenarnya churn dengan benar.\n",
    "\n",
    "Namun, tetap perlu diperhatikan bahwa akurasi, precision, recall, dan F1-score adalah indikator kinerja yang penting dan harus dijadikan bahan pertimbangan bersama untuk mengevaluasi keberhasilan model. Dengan akurasi sebesar 93% dan F1-score yang tinggi, kita dapat menyimpulkan bahwa model prediksi churn ini cukup baik dan dapat diandalkan untuk memprediksi perilaku churn costumer. Selain itu, recall yang tinggi menunjukkan bahwa model berhasil mengidentifikasi sebagian besar costumer yang berpotensi churn dengan tepat."
   ]
  }
 ],
 "metadata": {
  "kernelspec": {
   "display_name": "Python 3 (ipykernel)",
   "language": "python",
   "name": "python3"
  },
  "language_info": {
   "codemirror_mode": {
    "name": "ipython",
    "version": 3
   },
   "file_extension": ".py",
   "mimetype": "text/x-python",
   "name": "python",
   "nbconvert_exporter": "python",
   "pygments_lexer": "ipython3",
   "version": "3.10.11"
  }
 },
 "nbformat": 4,
 "nbformat_minor": 5
}
